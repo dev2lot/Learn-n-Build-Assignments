{
 "cells": [
  {
   "cell_type": "code",
   "execution_count": 4,
   "metadata": {},
   "outputs": [
    {
     "name": "stdout",
     "output_type": "stream",
     "text": [
      "<class 'list'>\n",
      "<class 'numpy.ndarray'>\n"
     ]
    }
   ],
   "source": [
    "#Q1 Write a NumPy program to convert a list of \n",
    "#numeric values into a one-dimensional NumPy array. \n",
    "lis = [1,2,3,4,5,6]\n",
    "print(type(lis))\n",
    "\n",
    "lis = np.array(lis)\n",
    "print(type(lis))"
   ]
  },
  {
   "cell_type": "code",
   "execution_count": 10,
   "metadata": {},
   "outputs": [
    {
     "data": {
      "text/plain": [
       "array([[ 9,  7, 14,  9],\n",
       "       [ 7, 10, 11, 13],\n",
       "       [ 7, 12,  7, 11],\n",
       "       [10,  8, 14, 11]])"
      ]
     },
     "execution_count": 10,
     "metadata": {},
     "output_type": "execute_result"
    }
   ],
   "source": [
    "# Q2 Write a NumPy program to create a 4x4 matrix with\n",
    "#values ranging from 7 to 15. \n",
    "arr = np.random.randint(7,15, size = (4,4))\n",
    "arr"
   ]
  },
  {
   "cell_type": "code",
   "execution_count": 15,
   "metadata": {},
   "outputs": [
    {
     "data": {
      "text/plain": [
       "array([0., 0., 0., 0., 0., 6., 0., 0., 0., 0.])"
      ]
     },
     "execution_count": 15,
     "metadata": {},
     "output_type": "execute_result"
    }
   ],
   "source": [
    "#Q3 Write a NumPy program to create a null vector of\n",
    "#size 10 and update the sixth value to 11.\n",
    "\n",
    "vec = np.zeros(10)\n",
    "vec[5] = 6\n",
    "vec"
   ]
  },
  {
   "cell_type": "code",
   "execution_count": 20,
   "metadata": {},
   "outputs": [
    {
     "name": "stdout",
     "output_type": "stream",
     "text": [
      "[1 2 3 4 5 6 7 8 9]\n",
      "[9 8 7 6 5 4 3 2 1]\n"
     ]
    }
   ],
   "source": [
    "#Q4 Write a NumPy program to reverse an array (first\n",
    "#element becomes last).\n",
    "arr = np.arange(1,10)\n",
    "print(arr)\n",
    "arr1 = np.flip(arr)\n",
    "print(arr1)"
   ]
  },
  {
   "cell_type": "code",
   "execution_count": 31,
   "metadata": {},
   "outputs": [
    {
     "data": {
      "text/plain": [
       "array([[1., 1., 1.],\n",
       "       [1., 0., 1.],\n",
       "       [1., 1., 1.]])"
      ]
     },
     "execution_count": 31,
     "metadata": {},
     "output_type": "execute_result"
    }
   ],
   "source": [
    "#Q5 Write a NumPy program to create a 2d array with\n",
    "#1 on the border and 0 inside.\n",
    "arra = np.zeros(shape = (3,3))\n",
    "for i in range(3):\n",
    "    arra[i][0] = 1\n",
    "    arra[0][i] = 1\n",
    "    arra[i][2] = 1\n",
    "    arra[2][i] = 1\n",
    "    \n",
    "arra"
   ]
  },
  {
   "cell_type": "code",
   "execution_count": 33,
   "metadata": {},
   "outputs": [
    {
     "data": {
      "text/plain": [
       "array([[0., 1., 0., 1., 0., 1., 0., 1.],\n",
       "       [1., 0., 1., 0., 1., 0., 1., 0.],\n",
       "       [0., 1., 0., 1., 0., 1., 0., 1.],\n",
       "       [1., 0., 1., 0., 1., 0., 1., 0.],\n",
       "       [0., 1., 0., 1., 0., 1., 0., 1.],\n",
       "       [1., 0., 1., 0., 1., 0., 1., 0.],\n",
       "       [0., 1., 0., 1., 0., 1., 0., 1.],\n",
       "       [1., 0., 1., 0., 1., 0., 1., 0.]])"
      ]
     },
     "execution_count": 33,
     "metadata": {},
     "output_type": "execute_result"
    }
   ],
   "source": [
    "#Q6 Write a NumPy program to create a 8x8 matrix and fill\n",
    "#it with a checkerboard pattern.\n",
    "arr2 = np.zeros(shape = (8,8))\n",
    "for i in range(8):\n",
    "    for j in range(8):\n",
    "        if i%2==0:\n",
    "            if j%2!=0:\n",
    "                arr2[i][j] = 1\n",
    "        else :\n",
    "            if j%2==0:\n",
    "                arr2[i][j] = 1\n",
    "                \n",
    "arr2"
   ]
  },
  {
   "cell_type": "code",
   "execution_count": 38,
   "metadata": {},
   "outputs": [
    {
     "name": "stdout",
     "output_type": "stream",
     "text": [
      "[1 2 3 4]\n",
      "[1 2 3 4 6]\n"
     ]
    }
   ],
   "source": [
    "#Q7 Write a NumPy program to append values to the end of an array.\n",
    "arr = np.arange(1,5)\n",
    "print(arr)\n",
    "arr = np.append(arr,6)\n",
    "print(arr)"
   ]
  },
  {
   "cell_type": "code",
   "execution_count": 40,
   "metadata": {},
   "outputs": [
    {
     "name": "stdout",
     "output_type": "stream",
     "text": [
      "In Degree celcius  [[47 51 46 35]\n",
      " [54 57 33 35]\n",
      " [39 43 40 30]\n",
      " [48 34 26 53]]\n",
      "In degree Farenheit [[ 8 10  7  1]\n",
      " [12 13  0  1]\n",
      " [ 3  6  4 -1]\n",
      " [ 8  1 -3 11]]\n"
     ]
    }
   ],
   "source": [
    "arr = np.random.randint(25,60, size = (4,4))\n",
    "print(\"In Degree celcius \",arr)\n",
    "for i in range(4):\n",
    "    for j in range(4):\n",
    "        arr[i][j] = (arr[i][j] - 32)*(5/9)\n",
    "        \n",
    "print(\"In degree Farenheit\",arr)"
   ]
  },
  {
   "cell_type": "code",
   "execution_count": 54,
   "metadata": {},
   "outputs": [
    {
     "name": "stdout",
     "output_type": "stream",
     "text": [
      "45\n",
      "4\n",
      "180\n"
     ]
    }
   ],
   "source": [
    "arr = np.random.randint(5,99,size =(5,9))\n",
    "print(arr.size)\n",
    "print(arr.itemsize)\n",
    "print(arr.nbytes)"
   ]
  },
  {
   "cell_type": "code",
   "execution_count": 56,
   "metadata": {},
   "outputs": [
    {
     "name": "stdout",
     "output_type": "stream",
     "text": [
      "Not all elements present\n"
     ]
    }
   ],
   "source": [
    "#Q10 Write a NumPy program to test whether each\n",
    "#element of a 1-D array is also present in a second array.\n",
    "arr1 = np.random.randint(1,100,size =(1,10))\n",
    "arr2 = np.random.randint(1,100,size =(1,10))\n",
    "n=0\n",
    "for i in arr1:\n",
    "    if i in arr2:\n",
    "        n=n+1\n",
    "    else:\n",
    "        print(\"Not all elements present\")\n",
    "if n == 9:\n",
    "    print(\"All Elements are present\")"
   ]
  },
  {
   "cell_type": "code",
   "execution_count": 61,
   "metadata": {},
   "outputs": [
    {
     "name": "stdout",
     "output_type": "stream",
     "text": [
      "[[1. 1. 1.]\n",
      " [1. 1. 1.]\n",
      " [1. 1. 1.]] \n",
      " [[0. 0. 0.]\n",
      " [0. 0. 0.]\n",
      " [0. 0. 0.]]\n"
     ]
    }
   ],
   "source": [
    "#Q11 Write a NumPy program to create an array of ones a\n",
    "#nd an array of zeros.\n",
    "arr1 = np.ones(shape = (3,3))\n",
    "arr0 = np.zeros(shape = (3,3))\n",
    "print(arr1,'\\n',arr0)"
   ]
  },
  {
   "cell_type": "code",
   "execution_count": 65,
   "metadata": {},
   "outputs": [
    {
     "name": "stdout",
     "output_type": "stream",
     "text": [
      "[[29 23 95 57  4 55 12 58  4]]\n",
      "[[29 23 95]\n",
      " [57  4 55]\n",
      " [12 58  4]]\n"
     ]
    }
   ],
   "source": [
    "#Q12 Write a NumPy program to create a new shape to an array\n",
    "#without changing its data.\n",
    "arr1 = np.random.randint(1,100,size =(1,9))\n",
    "print(arr1)\n",
    "arr2 = arr1.reshape(3,3)\n",
    "print(arr2)"
   ]
  },
  {
   "cell_type": "code",
   "execution_count": 78,
   "metadata": {},
   "outputs": [
    {
     "data": {
      "text/plain": [
       "dtype('float64')"
      ]
     },
     "execution_count": 78,
     "metadata": {},
     "output_type": "execute_result"
    }
   ],
   "source": [
    "#Q13 Write a NumPy program to change the data type of an array.\n",
    "arr = np.random.randint(1,100,size =(1,9))\n",
    "arr= arr.astype(np.float64)\n",
    "arr.dtype"
   ]
  },
  {
   "cell_type": "code",
   "execution_count": 82,
   "metadata": {},
   "outputs": [
    {
     "data": {
      "text/plain": [
       "array([[2, 2, 2, 2, 2],\n",
       "       [2, 2, 2, 2, 2],\n",
       "       [2, 2, 2, 2, 2]])"
      ]
     },
     "execution_count": 82,
     "metadata": {},
     "output_type": "execute_result"
    }
   ],
   "source": [
    "#Q14 Write a NumPy program to create a new array of 3*5, filled with 2.\n",
    "arr2 = np.full((3,5),2)\n",
    "arr2"
   ]
  },
  {
   "cell_type": "code",
   "execution_count": 87,
   "metadata": {},
   "outputs": [
    {
     "data": {
      "text/plain": [
       "array([[0., 0., 0.],\n",
       "       [0., 0., 0.],\n",
       "       [0., 0., 0.]])"
      ]
     },
     "execution_count": 87,
     "metadata": {},
     "output_type": "execute_result"
    }
   ],
   "source": [
    "#Q15 Write a NumPy program to create a 3-D array with ones on a\n",
    "#diagonal and zeros elsewhere\n",
    "\n",
    "arr = np.eye(3,3,3)\n",
    "arr\n"
   ]
  },
  {
   "cell_type": "code",
   "execution_count": 97,
   "metadata": {},
   "outputs": [
    {
     "data": {
      "text/plain": [
       "array([ 0,  3,  6,  9, 12, 15, 18, 21, 24, 27, 30, 33, 36, 39, 42, 45, 48,\n",
       "       51, 54, 57])"
      ]
     },
     "execution_count": 97,
     "metadata": {},
     "output_type": "execute_result"
    }
   ],
   "source": [
    "#Q16 Write a NumPy program to create a 1-D array of 20\n",
    "#element spaced evenly on a log scale between 2. and 5., exclusive.\n",
    "arr = np.array([p for p in range(0,60,3)])\n",
    "\n",
    "arr"
   ]
  },
  {
   "cell_type": "code",
   "execution_count": 100,
   "metadata": {},
   "outputs": [
    {
     "name": "stdout",
     "output_type": "stream",
     "text": [
      "[[1. 0. 0. 0. 0. 0. 0. 0.]\n",
      " [0. 1. 0. 0. 0. 0. 0. 0.]\n",
      " [0. 0. 1. 0. 0. 0. 0. 0.]\n",
      " [0. 0. 0. 1. 0. 0. 0. 0.]\n",
      " [0. 0. 0. 0. 1. 0. 0. 0.]\n",
      " [0. 0. 0. 0. 0. 1. 0. 0.]\n",
      " [0. 0. 0. 0. 0. 0. 1. 0.]\n",
      " [0. 0. 0. 0. 0. 0. 0. 1.]]\n",
      "No. of non-zero elements is  8\n"
     ]
    }
   ],
   "source": [
    "#Q17 Write a NumPy program to get the number of nonzero\n",
    "#elements in an array\n",
    "arr = np.eye(8,8)\n",
    "n=0\n",
    "for i in arr!=0:\n",
    "    n=n+1\n",
    "print(arr)\n",
    "print(\"No. of non-zero elements is \",n) "
   ]
  },
  {
   "cell_type": "code",
   "execution_count": 102,
   "metadata": {},
   "outputs": [
    {
     "name": "stdout",
     "output_type": "stream",
     "text": [
      "Sum is  992\n"
     ]
    }
   ],
   "source": [
    "#Q18 Write a NumPy program (using NumPy) to sum of all the multiples of 3 \n",
    "#or 5 below 100\n",
    "\n",
    "arr = np.random.randint(1,100,size =(50))\n",
    "summ = 0\n",
    "for i in range(50):\n",
    "    if arr[i]%3 == 0 or arr[i]%5 == 0:\n",
    "        summ=summ+arr[i]\n",
    "        \n",
    "print(\"Sum is \",summ)"
   ]
  }
 ],
 "metadata": {
  "kernelspec": {
   "display_name": "Python 3",
   "language": "python",
   "name": "python3"
  },
  "language_info": {
   "codemirror_mode": {
    "name": "ipython",
    "version": 3
   },
   "file_extension": ".py",
   "mimetype": "text/x-python",
   "name": "python",
   "nbconvert_exporter": "python",
   "pygments_lexer": "ipython3",
   "version": "3.8.5"
  }
 },
 "nbformat": 4,
 "nbformat_minor": 4
}
